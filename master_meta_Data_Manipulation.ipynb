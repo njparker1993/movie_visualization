{
 "cells": [
  {
   "cell_type": "code",
   "execution_count": 1,
   "metadata": {},
   "outputs": [],
   "source": [
    "import pandas as pd\n",
    "import random\n",
    "import os\n",
    "import ast"
   ]
  },
  {
   "cell_type": "markdown",
   "metadata": {},
   "source": [
    "# Master Movie Data Manipulation Notebook"
   ]
  },
  {
   "cell_type": "markdown",
   "metadata": {},
   "source": [
    "How this notebook could work is that we iterate/clean on the 'meta' csv in pandas, and then save it in the repo after we have added the new/corrected/cleaned data"
   ]
  },
  {
   "cell_type": "code",
   "execution_count": 2,
   "metadata": {},
   "outputs": [
    {
     "name": "stderr",
     "output_type": "stream",
     "text": [
      "/Users/nickparker/anaconda3/lib/python3.7/site-packages/IPython/core/interactiveshell.py:3049: DtypeWarning: Columns (10) have mixed types. Specify dtype option on import or set low_memory=False.\n",
      "  interactivity=interactivity, compiler=compiler, result=result)\n"
     ]
    }
   ],
   "source": [
    "#### change pathname to your clean dataset\n",
    "meta = pd.read_csv('/Users/nickparker/Documents/USF_MSDS/Module_1/593-Visualization/final_project/the-movies-dataset-clean/movies_metadata.csv')\n",
    "#meta.head(2).T"
   ]
  },
  {
   "cell_type": "code",
   "execution_count": 3,
   "metadata": {},
   "outputs": [
    {
     "name": "stdout",
     "output_type": "stream",
     "text": [
      "Index(['adult', 'belongs_to_collection', 'budget', 'genres', 'homepage', 'id',\n",
      "       'imdb_id', 'original_language', 'original_title', 'overview',\n",
      "       'popularity', 'poster_path', 'production_companies',\n",
      "       'production_countries', 'release_date', 'revenue', 'runtime',\n",
      "       'spoken_languages', 'status', 'tagline', 'title', 'video',\n",
      "       'vote_average', 'vote_count'],\n",
      "      dtype='object')\n"
     ]
    }
   ],
   "source": [
    "print(meta.columns)"
   ]
  },
  {
   "cell_type": "code",
   "execution_count": 4,
   "metadata": {},
   "outputs": [],
   "source": [
    "### Adding profit and use of Budget Columns\n",
    "meta['profit'] = meta['revenue'] - pd.to_numeric(meta['budget'],errors='coerce')\n",
    "meta['useOfBudget'] = meta['revenue'] / (pd.to_numeric(meta['budget'],errors='coerce') + 000.1)"
   ]
  },
  {
   "cell_type": "code",
   "execution_count": 5,
   "metadata": {},
   "outputs": [],
   "source": [
    "##Adding production company\n",
    "#Added Production Companies as a trend\n",
    "productionCompanies1 = []\n",
    "for rowNum in range(meta.shape[0]):\n",
    "    try: \n",
    "        productionCompanies1.append(ast.literal_eval(meta['production_companies'][rowNum])[0]['name'])\n",
    "    except:\n",
    "        productionCompanies1.append('nan')\n",
    "        \n",
    "productionCompanies2 = []        \n",
    "for rowNum in range(meta.shape[0]):\n",
    "    try: \n",
    "        productionCompanies2.append(ast.literal_eval(meta['production_companies'][rowNum])[1]['name'])\n",
    "    except:\n",
    "        productionCompanies2.append('nan')\n",
    "        \n",
    "meta['ProductionCo1'] = productionCompanies1\n",
    "meta['ProductionCo2'] = productionCompanies2"
   ]
  },
  {
   "cell_type": "code",
   "execution_count": 6,
   "metadata": {},
   "outputs": [],
   "source": [
    "#meta[['title','ProductionCo1','ProductionCo2']]"
   ]
  },
  {
   "cell_type": "code",
   "execution_count": 7,
   "metadata": {},
   "outputs": [],
   "source": [
    "##Adding genre\n",
    "genre1 = []\n",
    "for rowNum in range(meta.shape[0]):\n",
    "    try: \n",
    "        genre1.append(ast.literal_eval(meta['genres'][rowNum])[0]['name'])\n",
    "    except:\n",
    "        genre1.append('nan')\n",
    "        \n",
    "genre2 = []        \n",
    "for rowNum in range(meta.shape[0]):\n",
    "    try: \n",
    "        genre2.append(ast.literal_eval(meta['genres'][rowNum])[1]['name'])\n",
    "    except:\n",
    "        genre2.append('nan')\n",
    "\n",
    "genre3 = []        \n",
    "for rowNum in range(meta.shape[0]):\n",
    "    try: \n",
    "        genre3.append(ast.literal_eval(meta['genres'][rowNum])[2]['name'])\n",
    "    except:\n",
    "        genre3.append('nan')\n",
    "meta['genre_1'] = genre1\n",
    "meta['genre_2'] = genre2\n",
    "meta['genre_3'] = genre3"
   ]
  },
  {
   "cell_type": "markdown",
   "metadata": {},
   "source": [
    "## Merging"
   ]
  },
  {
   "cell_type": "code",
   "execution_count": 8,
   "metadata": {},
   "outputs": [],
   "source": [
    "## Don't run this cell unless you want to merge in ratings (big file)\n",
    "#Also, update filepath\n",
    "ratings = pd.read_csv('/Users/nickparker/Documents/USF_MSDS/Module_1/593-Visualization/final_project/the-movies-dataset-clean/ratings.csv')\n",
    "links = pd.read_csv('/Users/nickparker/Documents/USF_MSDS/Module_1/593-Visualization/final_project/the-movies-dataset-clean/links.csv')\n",
    "\n",
    "ratings = ratings.groupby('movieId').agg({'rating':['mean']}).reset_index() #gets average rating\n",
    "ratings.columns = ['movieId','rating']\n",
    "linkAvgRating = pd.merge(links,ratings,on='movieId',how='left')\n",
    "\n",
    "#credits = pd.read_csv('/Users/nickparker/Documents/USF_MSDS/Module_1/593-Visualization/final_project/the-movies-dataset-clean/credits.csv')\n",
    "#credits.columns = ['cast','crew','movieId']\n",
    "#linkRatCred = pd.merge(linkAvgRating,credits,on='movieId',how='left')\n",
    "\n",
    "meta['imdbId'] = pd.to_numeric(meta['imdb_id'].str[2:])\n",
    "meta = pd.merge(meta,linkAvgRating,on='imdbId',how='left')"
   ]
  },
  {
   "cell_type": "code",
   "execution_count": null,
   "metadata": {},
   "outputs": [],
   "source": []
  },
  {
   "cell_type": "markdown",
   "metadata": {},
   "source": [
    "## Making Flops dataframe"
   ]
  },
  {
   "cell_type": "code",
   "execution_count": 10,
   "metadata": {},
   "outputs": [
    {
     "name": "stderr",
     "output_type": "stream",
     "text": [
      "/Users/nickparker/anaconda3/lib/python3.7/site-packages/ipykernel_launcher.py:2: SettingWithCopyWarning: \n",
      "A value is trying to be set on a copy of a slice from a DataFrame.\n",
      "Try using .loc[row_indexer,col_indexer] = value instead\n",
      "\n",
      "See the caveats in the documentation: http://pandas.pydata.org/pandas-docs/stable/indexing.html#indexing-view-versus-copy\n",
      "  \n",
      "/Users/nickparker/anaconda3/lib/python3.7/site-packages/pandas/core/indexing.py:543: SettingWithCopyWarning: \n",
      "A value is trying to be set on a copy of a slice from a DataFrame.\n",
      "Try using .loc[row_indexer,col_indexer] = value instead\n",
      "\n",
      "See the caveats in the documentation: http://pandas.pydata.org/pandas-docs/stable/indexing.html#indexing-view-versus-copy\n",
      "  self.obj[item] = s\n"
     ]
    },
    {
     "data": {
      "text/plain": [
       "(5381, 36)"
      ]
     },
     "execution_count": 10,
     "metadata": {},
     "output_type": "execute_result"
    }
   ],
   "source": [
    "flop = meta.loc[((meta['revenue'] > 0) & pd.to_numeric(meta['budget'],errors='coerce' != 0))]\n",
    "flop['flop'] = 0\n",
    "flop.loc[(flop['profit'] < 0),'flop'] = 1\n",
    "flop.shape"
   ]
  },
  {
   "cell_type": "markdown",
   "metadata": {},
   "source": [
    "## Making the df longer based on genre"
   ]
  },
  {
   "cell_type": "code",
   "execution_count": 11,
   "metadata": {},
   "outputs": [
    {
     "data": {
      "text/plain": [
       "Index(['adult', 'belongs_to_collection', 'budget', 'genres', 'homepage', 'id',\n",
       "       'imdb_id', 'original_language', 'original_title', 'overview',\n",
       "       'popularity', 'poster_path', 'production_companies',\n",
       "       'production_countries', 'release_date', 'revenue', 'runtime',\n",
       "       'spoken_languages', 'status', 'tagline', 'title', 'video',\n",
       "       'vote_average', 'vote_count', 'profit', 'useOfBudget', 'ProductionCo1',\n",
       "       'ProductionCo2', 'genre_1', 'genre_2', 'genre_3', 'imdbId', 'movieId',\n",
       "       'tmdbId', 'rating', 'flop'],\n",
       "      dtype='object')"
      ]
     },
     "execution_count": 11,
     "metadata": {},
     "output_type": "execute_result"
    }
   ],
   "source": [
    "flop.columns"
   ]
  },
  {
   "cell_type": "code",
   "execution_count": 12,
   "metadata": {},
   "outputs": [
    {
     "data": {
      "text/plain": [
       "(5381, 36)"
      ]
     },
     "execution_count": 12,
     "metadata": {},
     "output_type": "execute_result"
    }
   ],
   "source": [
    "#metaTest = meta[['id','genre_1','genre_2','genre_3']]\n",
    "#pd.wide_to_long(metaTest, stubnames='genre', i=['imdb_id'], j='genreNo')\n",
    "#pd.melt(metaTest,id_vars=['imdb_id'],var_name='metrics', value_name='values')\n",
    "long_df = pd.wide_to_long(flop.reset_index(), \n",
    "                          i=['index'], \n",
    "                          j='genreNo',\n",
    "                          stubnames='genre',\n",
    "                          sep=\"_\")\n",
    "flop.shape"
   ]
  },
  {
   "cell_type": "code",
   "execution_count": 13,
   "metadata": {},
   "outputs": [
    {
     "data": {
      "text/plain": [
       "(16143, 34)"
      ]
     },
     "execution_count": 13,
     "metadata": {},
     "output_type": "execute_result"
    }
   ],
   "source": [
    "long_df.shape"
   ]
  },
  {
   "cell_type": "code",
   "execution_count": 17,
   "metadata": {},
   "outputs": [
    {
     "data": {
      "text/html": [
       "<div>\n",
       "<style scoped>\n",
       "    .dataframe tbody tr th:only-of-type {\n",
       "        vertical-align: middle;\n",
       "    }\n",
       "\n",
       "    .dataframe tbody tr th {\n",
       "        vertical-align: top;\n",
       "    }\n",
       "\n",
       "    .dataframe thead th {\n",
       "        text-align: right;\n",
       "    }\n",
       "</style>\n",
       "<table border=\"1\" class=\"dataframe\">\n",
       "  <thead>\n",
       "    <tr style=\"text-align: right;\">\n",
       "      <th></th>\n",
       "      <th>title</th>\n",
       "      <th>id</th>\n",
       "      <th>genreNo</th>\n",
       "      <th>genre</th>\n",
       "    </tr>\n",
       "  </thead>\n",
       "  <tbody>\n",
       "    <tr>\n",
       "      <th>6317</th>\n",
       "      <td>Lock, Stock and Two Smoking Barrels</td>\n",
       "      <td>100</td>\n",
       "      <td>2</td>\n",
       "      <td>Crime</td>\n",
       "    </tr>\n",
       "    <tr>\n",
       "      <th>11698</th>\n",
       "      <td>Lock, Stock and Two Smoking Barrels</td>\n",
       "      <td>100</td>\n",
       "      <td>3</td>\n",
       "      <td>nan</td>\n",
       "    </tr>\n",
       "    <tr>\n",
       "      <th>936</th>\n",
       "      <td>Lock, Stock and Two Smoking Barrels</td>\n",
       "      <td>100</td>\n",
       "      <td>1</td>\n",
       "      <td>Comedy</td>\n",
       "    </tr>\n",
       "    <tr>\n",
       "      <th>5892</th>\n",
       "      <td>The Saint</td>\n",
       "      <td>10003</td>\n",
       "      <td>2</td>\n",
       "      <td>Action</td>\n",
       "    </tr>\n",
       "    <tr>\n",
       "      <th>11273</th>\n",
       "      <td>The Saint</td>\n",
       "      <td>10003</td>\n",
       "      <td>3</td>\n",
       "      <td>Romance</td>\n",
       "    </tr>\n",
       "    <tr>\n",
       "      <th>511</th>\n",
       "      <td>The Saint</td>\n",
       "      <td>10003</td>\n",
       "      <td>1</td>\n",
       "      <td>Thriller</td>\n",
       "    </tr>\n",
       "    <tr>\n",
       "      <th>9956</th>\n",
       "      <td>Dumb and Dumber To</td>\n",
       "      <td>100042</td>\n",
       "      <td>2</td>\n",
       "      <td>nan</td>\n",
       "    </tr>\n",
       "    <tr>\n",
       "      <th>4575</th>\n",
       "      <td>Dumb and Dumber To</td>\n",
       "      <td>100042</td>\n",
       "      <td>1</td>\n",
       "      <td>Comedy</td>\n",
       "    </tr>\n",
       "    <tr>\n",
       "      <th>15337</th>\n",
       "      <td>Dumb and Dumber To</td>\n",
       "      <td>100042</td>\n",
       "      <td>3</td>\n",
       "      <td>nan</td>\n",
       "    </tr>\n",
       "    <tr>\n",
       "      <th>2555</th>\n",
       "      <td>Cursed</td>\n",
       "      <td>10012</td>\n",
       "      <td>1</td>\n",
       "      <td>Horror</td>\n",
       "    </tr>\n",
       "  </tbody>\n",
       "</table>\n",
       "</div>"
      ],
      "text/plain": [
       "                                     title      id  genreNo     genre\n",
       "6317   Lock, Stock and Two Smoking Barrels     100        2     Crime\n",
       "11698  Lock, Stock and Two Smoking Barrels     100        3       nan\n",
       "936    Lock, Stock and Two Smoking Barrels     100        1    Comedy\n",
       "5892                             The Saint   10003        2    Action\n",
       "11273                            The Saint   10003        3   Romance\n",
       "511                              The Saint   10003        1  Thriller\n",
       "9956                    Dumb and Dumber To  100042        2       nan\n",
       "4575                    Dumb and Dumber To  100042        1    Comedy\n",
       "15337                   Dumb and Dumber To  100042        3       nan\n",
       "2555                                Cursed   10012        1    Horror"
      ]
     },
     "execution_count": 17,
     "metadata": {},
     "output_type": "execute_result"
    }
   ],
   "source": [
    "long_df.reset_index(inplace=True)\n",
    "\n",
    "display = long_df[['title','id','genreNo','genre']]\n",
    "\n",
    "display.sort_values('id').head(10)"
   ]
  },
  {
   "cell_type": "code",
   "execution_count": null,
   "metadata": {},
   "outputs": [],
   "source": []
  },
  {
   "cell_type": "markdown",
   "metadata": {},
   "source": []
  },
  {
   "cell_type": "code",
   "execution_count": 35,
   "metadata": {},
   "outputs": [
    {
     "name": "stderr",
     "output_type": "stream",
     "text": [
      "/Users/nickparker/anaconda3/lib/python3.7/site-packages/ipykernel_launcher.py:2: SettingWithCopyWarning: \n",
      "A value is trying to be set on a copy of a slice from a DataFrame.\n",
      "Try using .loc[row_indexer,col_indexer] = value instead\n",
      "\n",
      "See the caveats in the documentation: http://pandas.pydata.org/pandas-docs/stable/indexing.html#indexing-view-versus-copy\n",
      "  \n"
     ]
    }
   ],
   "source": []
  },
  {
   "cell_type": "code",
   "execution_count": 36,
   "metadata": {},
   "outputs": [
    {
     "data": {
      "text/plain": [
       "(5381, 36)"
      ]
     },
     "execution_count": 36,
     "metadata": {},
     "output_type": "execute_result"
    }
   ],
   "source": [
    "flop.shape"
   ]
  },
  {
   "cell_type": "markdown",
   "metadata": {},
   "source": [
    "# Export"
   ]
  },
  {
   "cell_type": "markdown",
   "metadata": {},
   "source": [
    "#### When you are done with the data manipulation, save as csv in our manipulated data folder"
   ]
  },
  {
   "cell_type": "code",
   "execution_count": 9,
   "metadata": {},
   "outputs": [],
   "source": [
    "export_csv = meta.to_csv (r'movie_dataset_edited/meta.csv', header=True)\n",
    "#Don't forget to add '.csv' at the end of the path"
   ]
  },
  {
   "cell_type": "code",
   "execution_count": 37,
   "metadata": {},
   "outputs": [],
   "source": [
    "export_csv = flop.to_csv (r'movie_dataset_edited/flopDataSet.csv', header=True)\n"
   ]
  },
  {
   "cell_type": "code",
   "execution_count": null,
   "metadata": {},
   "outputs": [],
   "source": [
    "export_csv = flop.to_csv (r'movie_dataset_edited/flopDataSet.csv', header=True)\n"
   ]
  }
 ],
 "metadata": {
  "kernelspec": {
   "display_name": "Python 3",
   "language": "python",
   "name": "python3"
  },
  "language_info": {
   "codemirror_mode": {
    "name": "ipython",
    "version": 3
   },
   "file_extension": ".py",
   "mimetype": "text/x-python",
   "name": "python",
   "nbconvert_exporter": "python",
   "pygments_lexer": "ipython3",
   "version": "3.7.3"
  }
 },
 "nbformat": 4,
 "nbformat_minor": 2
}
